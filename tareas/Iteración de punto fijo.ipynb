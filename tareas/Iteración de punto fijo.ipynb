{
 "cells": [
  {
   "cell_type": "code",
   "execution_count": 1,
   "id": "36bec624",
   "metadata": {},
   "outputs": [],
   "source": [
    "import numpy as np\n",
    "import matplotlib.pyplot"
   ]
  },
  {
   "cell_type": "markdown",
   "id": "e7fd1537",
   "metadata": {},
   "source": [
    "Vamos a definir nuestro algoritmo de Newton-Rhapson-Simpson\n"
   ]
  },
  {
   "cell_type": "code",
   "execution_count": 37,
   "id": "5c35688e",
   "metadata": {},
   "outputs": [],
   "source": [
    "def f(epsilon, tau, x):\n",
    "    return (tau-x + epsilon*np.sin(x))\n",
    "\n",
    "def gnrs(epsilon, tau, x):\n",
    "    '''Esta función nos da la iteración de punto fijo de Newton-Rhapson-Simpson'''\n",
    "    return x + (tau-x + epsilon*np.sin(x))/(1-epsilon*np.cos(x))\n",
    "\n",
    "def galt(epsilon, tau, x):\n",
    "    '''Esta es una alternativa'''\n",
    "    return tau + epsilon*np.sin(x)\n",
    "\n",
    "   \n",
    "def nrs(g, x0, epsilon, tau):\n",
    "    '''Iteración con función g, y valor inicial x0'''\n",
    "    x = x0\n",
    "    print(x)\n",
    "    while x != g(epsilon, tau, x):\n",
    "        x = g(epsilon, tau, x)\n",
    "        print(x)\n",
    "    return x\n",
    "    \n",
    "    "
   ]
  },
  {
   "cell_type": "code",
   "execution_count": 38,
   "id": "ad4b21ff",
   "metadata": {},
   "outputs": [
    {
     "name": "stdout",
     "output_type": "stream",
     "text": [
      "0.5\n",
      "1.100654988195724\n",
      "1.0886045261524748\n",
      "1.088597752400025\n",
      "1.0885977523978936\n"
     ]
    },
    {
     "data": {
      "text/plain": [
       "1.0885977523978936"
      ]
     },
     "execution_count": 38,
     "metadata": {},
     "output_type": "execute_result"
    }
   ],
   "source": [
    "nrs(gnrs,0.5,0.1,1)"
   ]
  },
  {
   "cell_type": "code",
   "execution_count": 39,
   "id": "10adf76b",
   "metadata": {},
   "outputs": [
    {
     "name": "stdout",
     "output_type": "stream",
     "text": [
      "0.5\n",
      "1.0479425538604203\n",
      "1.086639766474731\n",
      "1.0885067853016681\n",
      "1.088593533630708\n",
      "1.0885975567609814\n",
      "1.088597743325657\n",
      "1.0885977519771886\n",
      "1.0885977523783843\n",
      "1.088597752396989\n",
      "1.0885977523978516\n",
      "1.0885977523978916\n",
      "1.0885977523978936\n"
     ]
    },
    {
     "data": {
      "text/plain": [
       "1.0885977523978936"
      ]
     },
     "execution_count": 39,
     "metadata": {},
     "output_type": "execute_result"
    }
   ],
   "source": [
    "nrs(galt,0.5,0.1,1)"
   ]
  },
  {
   "cell_type": "code",
   "execution_count": null,
   "id": "67787e76",
   "metadata": {},
   "outputs": [],
   "source": []
  }
 ],
 "metadata": {
  "kernelspec": {
   "display_name": "Python 3 (ipykernel)",
   "language": "python",
   "name": "python3"
  },
  "language_info": {
   "codemirror_mode": {
    "name": "ipython",
    "version": 3
   },
   "file_extension": ".py",
   "mimetype": "text/x-python",
   "name": "python",
   "nbconvert_exporter": "python",
   "pygments_lexer": "ipython3",
   "version": "3.9.15"
  }
 },
 "nbformat": 4,
 "nbformat_minor": 5
}
