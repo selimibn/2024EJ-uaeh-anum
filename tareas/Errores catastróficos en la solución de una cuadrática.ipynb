{
 "cells": [
  {
   "cell_type": "code",
   "execution_count": 1,
   "id": "0207fdff",
   "metadata": {},
   "outputs": [],
   "source": [
    "import numpy as np\n",
    "import math as math\n",
    "import matplotlib.pyplot as plt\n"
   ]
  },
  {
   "cell_type": "markdown",
   "id": "8fd2f14f",
   "metadata": {},
   "source": [
    "Vamos a definir de varias maneras la solución al problema \n",
    "$$x^2 - 2 b x +1 =0.$$\n",
    "\n",
    "Definimos\n",
    "$$ x_+ = b - \\sqrt{b^2-1},\\quad x_+ = b - \\sqrt{b^2-1},\\quad \\hat{x}_+ = 1/x_-,\\quad \\hat{x}_- = 1/x_+. $$\n"
   ]
  },
  {
   "cell_type": "code",
   "execution_count": 119,
   "id": "72878e12",
   "metadata": {},
   "outputs": [],
   "source": [
    "def xp(b):\n",
    "    return b + np.sqrt(b**2-1)\n",
    "\n",
    "def xm(b):\n",
    "    return b - np.sqrt(b**2-1)\n",
    "\n",
    "def xpinv(b):\n",
    "    return 1/xm(b)\n",
    "\n",
    "def xminv(b):\n",
    "    return 1/xp(b)\n",
    "\n",
    "\n",
    "\n"
   ]
  },
  {
   "cell_type": "markdown",
   "id": "4e37b5b6",
   "metadata": {},
   "source": [
    "Aquí calculamos los errores, esencialmente evaluando que nuestra raíz resuelva el problema. "
   ]
  },
  {
   "cell_type": "code",
   "execution_count": 120,
   "id": "8598f40c",
   "metadata": {},
   "outputs": [],
   "source": [
    "def errp(b):\n",
    "    return (xp(b)**2-2*b*xp(b)+1)\n",
    "\n",
    "def errm(b):\n",
    "    return (xm(b)**2-2*b*xm(b)+1)\n",
    "\n",
    "def errpinv(b):\n",
    "    return xpinv(b)**2-2*b*xpinv(b)+1\n",
    "\n",
    "def errminv(b):\n",
    "    return xminv(b)**2-2*b*xminv(b)+1\n"
   ]
  },
  {
   "cell_type": "markdown",
   "id": "48fbe247",
   "metadata": {},
   "source": [
    "Miremos como, al crecer $b$, se comportan los valores ingenuos tomados de la chicharronera:"
   ]
  },
  {
   "cell_type": "code",
   "execution_count": 121,
   "id": "e0a1e144",
   "metadata": {},
   "outputs": [
    {
     "name": "stdout",
     "output_type": "stream",
     "text": [
      "[3.732050807568877, 0.2679491924311228]  con un error de  [0.0, -4.440892098500626e-16]\n",
      "[6.146166331352099, 0.16270304871166896]  con un error de  [0.0, -2.220446049250313e-16]\n",
      "[11.19384284144999, 0.08933482577556617]  con un error de  [-1.4210854715202004e-14, -3.552713678800501e-15]\n",
      "[21.954451150103324, 0.04554884989667762]  con un error de  [5.684341886080802e-14, 2.3314683517128287e-15]\n",
      "[45.06650437161619, 0.022189429021477025]  con un error de  [0.0, -6.150635556423367e-14]\n",
      "[94.82123051086735, 0.010546161388248265]  con un error de  [0.0, 1.0236256287043943e-13]\n",
      "[201.99504938362077, 0.004950616379218786]  con un error de  [0.0, 3.3939517862791035e-13]\n",
      "[432.8846279220369, 0.002310084340024332]  con un error de  [0.0, 4.296563105299356e-14]\n",
      "[930.3166918197737, 0.0010749027817951173]  con un error de  [0.0, 1.2494338896829049e-11]\n",
      "[2001.999500499376, 0.0004995006240733346]  con un error de  [4.656612873077393e-10, 1.0605749611869442e-10]\n",
      "[4310.869148091987, 0.0002319717823411338]  con un error de  [0.0, 2.7769664345811407e-10]\n",
      "[9285.177559527023, 0.000107698532701761]  con un error de  [1.4901161193847656e-08, 9.63621515914781e-10]\n",
      "[20001.999950005, 4.9995000154012814e-05]  con un error de  [0.0, 9.418935742466772e-09]\n",
      "[43090.69377743077, 2.3206866899272427e-05]  con un error de  [-2.384185791015625e-07, 4.9098572985073474e-09]\n",
      "[92833.7766614837, 1.0771938832476735e-05]  con un error de  [0.0, 2.3621469125156835e-07]\n",
      "[200001.99999500005, 4.99995076097548e-06]  con un error de  [0.0, -1.5207161840891104e-07]\n",
      "[430888.93800405564, 2.320797648280859e-06]  con un error de  [0.0, -6.033990049170157e-06]\n",
      "[928319.7667214792, 1.0771909728646278e-06]  con un error de  [0.0, 2.2327355825413342e-05]\n",
      "[2000001.9999994999, 5.00003807246685e-07]  con un error de  [-0.00048828125, -8.614500734527297e-06]\n",
      "[4308871.380063533, 2.3189932107925415e-07]  con un error de  [0.0, 0.0007756523454378605]\n",
      "[9283179.667225456, 1.0803341865539551e-07]  con un error de  [0.0, -0.0028936354426227773]\n",
      "[20000001.999999948, 5.029141902923584e-08]  con un error de  [0.0, -0.005828481167552413]\n",
      "[43088695.800637625, 2.2351741790771484e-08]  con un error de  [0.0, 0.036892597363048285]\n",
      "[92831778.67225562, 1.4901161193847656e-08]  con un error de  [-1.0, -0.38330129790686995]\n",
      "[200000002.0, 0.0]  con un error de  [1.0, 1.0]\n",
      "[430886940.00637734, 0.0]  con un error de  [1.0, 1.0]\n",
      "[928317768.7225546, 0.0]  con un error de  [1.0, 1.0]\n",
      "[2000000002.0, 0.0]  con un error de  [1.0, 1.0]\n",
      "[4308869382.063773, 0.0]  con un error de  [1.0, 1.0]\n",
      "[9283177669.225546, 0.0]  con un error de  [1.0, 1.0]\n"
     ]
    }
   ],
   "source": [
    "for i in range(30):\n",
    "    b = 1 +10**(i/3)\n",
    "    print([xp(b),xm(b)],\" con un error de \", [errp(b), errm(b)])"
   ]
  },
  {
   "cell_type": "markdown",
   "id": "df78dd86",
   "metadata": {},
   "source": [
    "Cuando nuestro argumento llega a $b=1+10^8$, las soluciones van a los valores erroneos $x_+ = 2 b, x_-= 0$. "
   ]
  },
  {
   "cell_type": "code",
   "execution_count": 122,
   "id": "72efb7e0",
   "metadata": {},
   "outputs": [
    {
     "data": {
      "text/plain": [
       "[200000002.0, 0.0]"
      ]
     },
     "execution_count": 122,
     "metadata": {},
     "output_type": "execute_result"
    }
   ],
   "source": [
    "[xp(1+10**8),xm(1+10**8)]"
   ]
  },
  {
   "cell_type": "markdown",
   "id": "d16fafd2",
   "metadata": {},
   "source": [
    "Con esto, el error explota"
   ]
  },
  {
   "cell_type": "code",
   "execution_count": 123,
   "id": "3e71d6a9",
   "metadata": {},
   "outputs": [
    {
     "data": {
      "text/plain": [
       "(1.0, 1.0)"
      ]
     },
     "execution_count": 123,
     "metadata": {},
     "output_type": "execute_result"
    }
   ],
   "source": [
    "errp(1+10**8), errm(1+10**8)"
   ]
  },
  {
   "cell_type": "markdown",
   "id": "197c31d5",
   "metadata": {},
   "source": [
    "Miremos la misma dinámica para las soluciones $x_+, \\hat{x}_-$.  El error en $\\hat{x}_-$ nunca alcanza explota. Por supuesto, cuando nuestra representación de $b^2-1$ no puede distinguirse de $b$, la determinación de $x_+$ falla. "
   ]
  },
  {
   "cell_type": "code",
   "execution_count": 125,
   "id": "33c24d72",
   "metadata": {},
   "outputs": [
    {
     "name": "stdout",
     "output_type": "stream",
     "text": [
      "[3.732050807568877, 0.2679491924311227]  con un error de  [0.0, 0.0]\n",
      "[6.146166331352099, 0.16270304871166894]  con un error de  [0.0, 0.0]\n",
      "[11.19384284144999, 0.08933482577556585]  con un error de  [-1.4210854715202004e-14, 0.0]\n",
      "[21.954451150103324, 0.04554884989667773]  con un error de  [5.684341886080802e-14, 1.1102230246251565e-16]\n",
      "[45.06650437161619, 0.02218942902147566]  con un error de  [0.0, 0.0]\n",
      "[94.82123051086735, 0.010546161388249346]  con un error de  [0.0, 0.0]\n",
      "[201.99504938362077, 0.004950616379220466]  con un error de  [0.0, 1.1102230246251565e-16]\n",
      "[432.8846279220369, 0.002310084340024431]  con un error de  [0.0, 1.1102230246251565e-16]\n",
      "[930.3166918197737, 0.0010749027818085476]  con un error de  [0.0, 1.1102230246251565e-16]\n",
      "[2001.999500499376, 0.0004995006241263105]  con un error de  [4.656612873077393e-10, 0.0]\n",
      "[4310.869148091987, 0.0002319717824055516]  con un error de  [0.0, 1.1102230246251565e-16]\n",
      "[9285.177559527023, 0.00010769853280554163]  con un error de  [1.4901161193847656e-08, 2.220446049250313e-16]\n",
      "[20001.999950005, 4.9995000624912514e-05]  con un error de  [0.0, 0.0]\n",
      "[43090.69377743077, 2.3206867013214835e-05]  con un error de  [-2.384185791015625e-07, 0.0]\n",
      "[92833.7766614837, 1.0771941376967542e-05]  con un error de  [0.0, 0.0]\n",
      "[200001.99999500005, 4.999950000624991e-06]  con un error de  [0.0, 0.0]\n",
      "[430888.93800405564, 2.3207836446954406e-06]  con un error de  [0.0, 0.0]\n",
      "[928319.7667214792, 1.0772150242277743e-06]  con un error de  [0.0, 0.0]\n",
      "[2000001.9999994999, 4.999995000006251e-07]  con un error de  [-0.00048828125, -2.220446049250313e-16]\n",
      "[4308871.380063533, 2.3207933395896707e-07]  con un error de  [0.0, 1.1102230246251565e-16]\n",
      "[9283179.667225456, 1.077217112936562e-07]  con un error de  [0.0, 1.1102230246251565e-16]\n",
      "[20000001.999999948, 4.999999500000063e-08]  con un error de  [0.0, -2.220446049250313e-16]\n",
      "[43088695.800637625, 2.3207943090846626e-08]  con un error de  [0.0, 1.1102230246251565e-16]\n",
      "[92831778.67225562, 1.0772173218079977e-08]  con un error de  [-1.0, 0.0]\n",
      "[200000002.0, 4.99999995e-09]  con un error de  [1.0, 1.1102230246251565e-16]\n",
      "[430886940.00637734, 2.320794406034213e-09]  con un error de  [1.0, 0.0]\n",
      "[928317768.7225546, 1.0772173426951489e-09]  con un error de  [1.0, 0.0]\n",
      "[2000000002.0, 4.999999995e-10]  con un error de  [1.0, 1.1102230246251565e-16]\n",
      "[4308869382.063773, 2.320794415729169e-10]  con un error de  [1.0, 0.0]\n",
      "[9283177669.225546, 1.0772173447838638e-10]  con un error de  [1.0, 0.0]\n"
     ]
    }
   ],
   "source": [
    "for i in range(30):\n",
    "    b = 1 + 10**(i/3)\n",
    "    print([xp(b),xminv(b)],\" con un error de \", [errp(b), errminv(b)])"
   ]
  },
  {
   "cell_type": "code",
   "execution_count": 127,
   "id": "dd305144",
   "metadata": {},
   "outputs": [
    {
     "name": "stdout",
     "output_type": "stream",
     "text": [
      "[3.732050807568876, 0.2679491924311228]  con un error de  [-5.329070518200751e-15, -4.440892098500626e-16]\n",
      "[6.146166331352097, 0.16270304871166896]  con un error de  [-1.4210854715202004e-14, -2.220446049250313e-16]\n",
      "[11.193842841449952, 0.08933482577556617]  con un error de  [-4.263256414560601e-13, -3.552713678800501e-15]\n",
      "[21.954451150103374, 0.04554884989667762]  con un error de  [1.1368683772161603e-12, 2.3314683517128287e-15]\n",
      "[45.06650437161342, 0.022189429021477025]  con un error de  [-1.2460077414289117e-10, -6.150635556423367e-14]\n",
      "[94.82123051087706, 0.010546161388248265]  con un error de  [9.204086381942034e-10, 1.0236256287043943e-13]\n",
      "[201.99504938368932, 0.004950616379218786]  con un error de  [1.384614733979106e-08, 3.3939517862791035e-13]\n",
      "[432.8846279220555, 0.002310084340024332]  con un error de  [8.032657206058502e-09, 4.296563105299356e-14]\n",
      "[930.3166918313974, 0.0010749027817951173]  con un error de  [1.0813702829182148e-05, 1.2494338896829049e-11]\n",
      "[2001.9995007117031, 0.0004995006240733346]  con un error de  [0.0004250789061188698, 1.0605749611869442e-10]\n",
      "[4310.869149289101, 0.0002319717823411338]  con un error de  [0.0051606036722660065, 2.7769664345811407e-10]\n",
      "[9285.17756847442, 0.000107698532701761]  con un error de  [0.08307819068431854, 9.63621515914781e-10]\n",
      "[20002.000138402553, 4.9995000154012814e-05]  con un error de  [3.7683278918266296, 9.418935742466772e-09]\n",
      "[43090.69398899994, 2.3206866899272427e-05]  con un error de  [9.11666202545166, 4.9098572985073474e-09]\n",
      "[92833.79859019078, 1.0771938832476735e-05]  con un error de  [2035.7251777648926, 2.3621469125156835e-07]\n",
      "[200001.96958037684, 4.99995076097548e-06]  con un error de  [-6082.98454284668, -1.5207161840891104e-07]\n",
      "[430886.3380401796, 2.320797648280859e-06]  con un error de  [-1120288.9136047363, -6.033990049170157e-06]\n",
      "[928340.4941100184, 1.0771909728646278e-06]  con un error de  [19242074.117919922, 2.2327355825413342e-05]\n",
      "[1999984.77112922, 5.00003807246685e-07]  con un error de  [-34457478.18359375, -8.614500734527297e-06]\n",
      "[4312216.16064257, 2.3189932107925415e-07]  con un error de  [14423416866.726562, 0.0007756523454378605]\n",
      "[9256395.034482758, 1.0803341865539551e-07]  con un error de  [-247929141519.95312, -0.0028936354426227773]\n",
      "[19884107.85185185, 5.029141902923584e-08]  con un error de  [-2304451741175.25, -0.005828481167552413]\n",
      "[44739242.666666664, 2.2351741790771484e-08]  con un error de  [73844216771979.5, 0.036892597363048285]\n",
      "[67108864.0, 1.4901161193847656e-08]  con un error de  [-1726235582424007.0, -0.38330129790686995]\n",
      "[inf, 0.0]  con un error de  [nan, 1.0]\n",
      "[inf, 0.0]  con un error de  [nan, 1.0]\n",
      "[inf, 0.0]  con un error de  [nan, 1.0]\n",
      "[inf, 0.0]  con un error de  [nan, 1.0]\n",
      "[inf, 0.0]  con un error de  [nan, 1.0]\n",
      "[inf, 0.0]  con un error de  [nan, 1.0]\n"
     ]
    },
    {
     "name": "stderr",
     "output_type": "stream",
     "text": [
      "/tmp/ipykernel_1350599/1045626023.py:8: RuntimeWarning: divide by zero encountered in scalar divide\n",
      "  return 1/xm(b)\n",
      "/tmp/ipykernel_1350599/425177849.py:8: RuntimeWarning: invalid value encountered in scalar subtract\n",
      "  return xpinv(b)**2-2*b*xpinv(b)+1\n"
     ]
    }
   ],
   "source": [
    "for i in range(30):\n",
    "    b = 1 + 10**(i/3)\n",
    "    print([xpinv(b),xm(b)],\" con un error de \", [errpinv(b), errm(b)])"
   ]
  },
  {
   "cell_type": "markdown",
   "id": "d4a4ed40",
   "metadata": {},
   "source": [
    "Podemos mostrar algunas gráficas para evidenciar este fenómeno. "
   ]
  },
  {
   "cell_type": "code",
   "execution_count": 128,
   "id": "a877a5b9",
   "metadata": {},
   "outputs": [
    {
     "data": {
      "image/png": "[encoded data removed]",
      "text/plain": [
       "<Figure size 640x480 with 1 Axes>"
      ]
     },
     "metadata": {},
     "output_type": "display_data"
    }
   ],
   "source": [
    "k= 7\n",
    "B = np.linspace(1, 5*10**k)\n",
    "errP = [errp(b) for b in B]\n",
    "plt.plot(B, errP, 'bx')\n",
    "plt.show()"
   ]
  },
  {
   "cell_type": "code",
   "execution_count": 129,
   "id": "1a290158",
   "metadata": {},
   "outputs": [
    {
     "data": {
      "image/png": "[encoded data removed]",
      "text/plain": [
       "<Figure size 640x480 with 1 Axes>"
      ]
     },
     "metadata": {},
     "output_type": "display_data"
    }
   ],
   "source": [
    "k= 7\n",
    "B = np.linspace(1, 5*10**k)\n",
    "errP = [errp(b) for b in B]\n",
    "plt.plot(B, errP, 'bx')\n",
    "plt.show()\n"
   ]
  },
  {
   "cell_type": "code",
   "execution_count": 130,
   "id": "8ef7078d",
   "metadata": {},
   "outputs": [
    {
     "data": {
      "image/png": "[encoded data removed]",
      "text/plain": [
       "<Figure size 640x480 with 1 Axes>"
      ]
     },
     "metadata": {},
     "output_type": "display_data"
    }
   ],
   "source": [
    "k= 7\n",
    "B = np.linspace(1, 5*10**k)\n",
    "errM = [errm(b) for b in B]\n",
    "plt.plot(B, errM, 'bx')\n",
    "plt.show()\n"
   ]
  },
  {
   "cell_type": "code",
   "execution_count": 131,
   "id": "458b927f",
   "metadata": {},
   "outputs": [
    {
     "data": {
      "image/png": "[encoded data removed]",
      "text/plain": [
       "<Figure size 640x480 with 1 Axes>"
      ]
     },
     "metadata": {},
     "output_type": "display_data"
    }
   ],
   "source": [
    "k= 7\n",
    "B = np.linspace(1, 10**k)\n",
    "errPi = [errpinv(b) for b in B]\n",
    "plt.plot(B, errPi, 'bx')\n",
    "plt.show()\n"
   ]
  },
  {
   "cell_type": "code",
   "execution_count": 132,
   "id": "3f1f2cc5",
   "metadata": {},
   "outputs": [
    {
     "data": {
      "image/png": "[encoded data removed]",
      "text/plain": [
       "<Figure size 640x480 with 1 Axes>"
      ]
     },
     "metadata": {},
     "output_type": "display_data"
    }
   ],
   "source": [
    "k= 6\n",
    "B = np.linspace(1, 10**k)\n",
    "errMi = [errminv(b) for b in B]\n",
    "plt.plot(B, errMi, 'bx')\n",
    "plt.show()"
   ]
  },
  {
   "cell_type": "code",
   "execution_count": null,
   "id": "fd1d307c",
   "metadata": {},
   "outputs": [],
   "source": []
  },
  {
   "cell_type": "code",
   "execution_count": null,
   "id": "ea335335",
   "metadata": {},
   "outputs": [],
   "source": []
  }
 ],
 "metadata": {
  "kernelspec": {
   "display_name": "Python 3 (ipykernel)",
   "language": "python",
   "name": "python3"
  },
  "language_info": {
   "codemirror_mode": {
    "name": "ipython",
    "version": 3
   },
   "file_extension": ".py",
   "mimetype": "text/x-python",
   "name": "python",
   "nbconvert_exporter": "python",
   "pygments_lexer": "ipython3",
   "version": "3.9.15"
  }
 },
 "nbformat": 4,
 "nbformat_minor": 5
}
